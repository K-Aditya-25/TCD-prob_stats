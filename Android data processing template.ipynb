{
 "cells": [
  {
   "cell_type": "markdown",
   "id": "b88a9458",
   "metadata": {},
   "source": [
    "**This notebook contains the python script to preprocess **"
   ]
  },
  {
   "cell_type": "markdown",
   "id": "788eeabf",
   "metadata": {},
   "source": [
    "Import Pandas and Numpy"
   ]
  },
  {
   "cell_type": "code",
   "execution_count": null,
   "id": "57f236ac",
   "metadata": {},
   "outputs": [],
   "source": [
    "import pandas as pd\n",
    "import numpy as np"
   ]
  },
  {
   "cell_type": "markdown",
   "id": "6b0c5168",
   "metadata": {},
   "source": [
    "Set the file paths"
   ]
  },
  {
   "cell_type": "code",
   "execution_count": null,
   "id": "471b781b",
   "metadata": {},
   "outputs": [],
   "source": [
    "tue_8am_front = pd.read_csv(\"Enter File Path\",index_col = \"time\")\n",
    "tue_8am_pearse = pd.read_csv(\"Enter File Path\",index_col = \"time\")\n",
    "tue_8am_nassau = pd.read_csv(\"Enter File Path\",index_col = \"time\")"
   ]
  },
  {
   "cell_type": "markdown",
   "id": "9369f34a",
   "metadata": {},
   "source": [
    "Check how the dataframe looks"
   ]
  },
  {
   "cell_type": "code",
   "execution_count": null,
   "id": "e7924510",
   "metadata": {},
   "outputs": [],
   "source": [
    "tue_8am_nassau"
   ]
  },
  {
   "cell_type": "markdown",
   "id": "826446ae",
   "metadata": {},
   "source": [
    "Checkout the dimensions of each dataframe"
   ]
  },
  {
   "cell_type": "code",
   "execution_count": null,
   "id": "ee67e07c",
   "metadata": {},
   "outputs": [],
   "source": [
    "print(f\"Tue 8am Front: {tue_8am_front.shape}\\nTue 8am Nassau: {tue_8am_nassau.shape}\\nTue 8am Pearse: {tue_8am_pearse.shape}\")"
   ]
  },
  {
   "cell_type": "markdown",
   "id": "5b22f4a4",
   "metadata": {},
   "source": [
    "Uncomment the below code to cut anything in half if it's a 25 min file, else, don't bother running this step"
   ]
  },
  {
   "cell_type": "code",
   "execution_count": null,
   "id": "87e9f417",
   "metadata": {},
   "outputs": [],
   "source": [
    "# tue_8am_front = tue_8am_front.iloc[:int((len(tue_8am_nassau)/2))]\n",
    "# tue_8am_nassau = tue_8am_nassau.iloc[:int((len(tue_8am_nassau)/2))]\n",
    "# tue_8am_pearse = tue_8am_pearse.iloc[:int((len(tue_8am_pearse)/2))]"
   ]
  },
  {
   "cell_type": "markdown",
   "id": "6f1cd4a5",
   "metadata": {},
   "source": [
    "Generally, 10 rows of 'gain' value of the sound data collected on an Android device constitutes for a single second. So, let's get a mean representative value for every second of the data, and collect it in a list called **means_list**"
   ]
  },
  {
   "cell_type": "code",
   "execution_count": null,
   "id": "c149529d",
   "metadata": {},
   "outputs": [],
   "source": [
    "means_list_A = [] #A is for Front\n",
    "for i in range(0, tue_8am_front.shape[0], 10):\n",
    "    slice_ = tue_8am_front['gain'].iloc[i:i+10]\n",
    "    mean = round(sum(slice_)/len(slice_),3)\n",
    "    means_list_A.append(mean)\n",
    "\n",
    "means_list_B = [] #B is for Nassau\n",
    "for i in range(0, tue_8am_nassau.shape[0], 10):\n",
    "    slice_ = tue_8am_nassau['gain'].iloc[i:i+10]\n",
    "    mean = round(sum(slice_)/len(slice_),3)\n",
    "    means_list_B.append(mean)\n",
    "    \n",
    "means_list_C = [] #C is for Pearse\n",
    "for i in range(0, tue_8am_nassau.shape[0], 10):\n",
    "    slice_ = tue_8am_nassau['gain'].iloc[i:i+10]\n",
    "    mean = round(sum(slice_)/len(slice_),3)\n",
    "    means_list_C.append(mean)"
   ]
  },
  {
   "cell_type": "markdown",
   "id": "a8e92de5",
   "metadata": {},
   "source": [
    "Now, create a **final_means_list** that averaged the 'gain' value for every 5 seconds, i.e., 5 rows in our case."
   ]
  },
  {
   "cell_type": "code",
   "execution_count": null,
   "id": "c9d49003",
   "metadata": {},
   "outputs": [],
   "source": [
    "final_means_list_A = []\n",
    "for i in range(0, len(means_list_A), 5):\n",
    "    slice_ = means_list_A[i:i+5]\n",
    "    mean = round(sum(slice_)/len(slice_),3)\n",
    "    final_means_list_A.append(mean)\n",
    "\n",
    "final_means_list_B = []\n",
    "for i in range(0, len(means_list_B), 5):\n",
    "    slice_ = means_list_B[i:i+5]\n",
    "    mean = round(sum(slice_)/len(slice_),3)\n",
    "    final_means_list_B.append(mean)\n",
    "    \n",
    "final_means_list_C = []\n",
    "for i in range(0, len(means_list_C), 5):\n",
    "    slice_ = means_list_C[i:i+5]\n",
    "    mean = round(sum(slice_)/len(slice_),3)\n",
    "    final_means_list_C.append(mean)"
   ]
  },
  {
   "cell_type": "markdown",
   "id": "11fbeb43",
   "metadata": {},
   "source": [
    "Create new dataframes which contain columns as instructed in the assignment. Make sure to carefully change the names of the **final_means_list** variable as per the location.<br>"
   ]
  },
  {
   "cell_type": "code",
   "execution_count": null,
   "id": "afed5671",
   "metadata": {},
   "outputs": [],
   "source": [
    "tue_8am_front_avg=pd.DataFrame({\n",
    "    'Location': 'A',\n",
    "    'Time of Day': 'Morn',\n",
    "    'Day': 1,\n",
    "    'Average Sound Level': final_means_list_A\n",
    "})\n",
    "\n",
    "tue_8am_nassau_avg=pd.DataFrame({\n",
    "    'Location': 'B',\n",
    "    'Time of Day': 'Morn',\n",
    "    'Day': 1,\n",
    "    'Average Sound Level': final_means_list_B\n",
    "})\n",
    "\n",
    "tue_8am_pearse_avg=pd.DataFrame({\n",
    "    'Location': 'C',\n",
    "    'Time of Day': 'Morn',\n",
    "    'Day': 1,\n",
    "    'Average Sound Level': final_means_list_C\n",
    "})"
   ]
  },
  {
   "cell_type": "markdown",
   "id": "72a00657",
   "metadata": {},
   "source": [
    "Since the assignment instructs us to have **150** rows for each location, limit each dataframe to 150 rows"
   ]
  },
  {
   "cell_type": "code",
   "execution_count": null,
   "id": "db24587d",
   "metadata": {},
   "outputs": [],
   "source": [
    "tue_8am_front_avg = tue_8am_front_avg.iloc[0:150]\n",
    "tue_8am_nassau_avg = tue_8am_nassau_avg.iloc[0:150]\n",
    "tue_8am_pearse_avg = tue_8am_pearse_avg.iloc[0:150]"
   ]
  },
  {
   "cell_type": "markdown",
   "id": "0a597b4f",
   "metadata": {},
   "source": [
    "Checkout any dataframe to confirm that it looks the way it's supposed to"
   ]
  },
  {
   "cell_type": "code",
   "execution_count": null,
   "id": "06c67d73",
   "metadata": {},
   "outputs": [],
   "source": [
    "tue_8am_nassau_avg"
   ]
  },
  {
   "cell_type": "markdown",
   "id": "6703e6b3",
   "metadata": {},
   "source": [
    "Export the dataframes as csv files with appropriate name"
   ]
  },
  {
   "cell_type": "code",
   "execution_count": null,
   "id": "f68635e5",
   "metadata": {},
   "outputs": [],
   "source": [
    "tue_8am_front_avg.to_csv(\"Tue 8am Front avg.csv\", index = False)\n",
    "tue_8am_nassau_avg.to_csv(\"Tue 8am Nassau avg.csv\", index = False)\n",
    "tue_8am_pearse_avg.to_csv(\"Tue 8am Pearse avg.csv\", index = False)"
   ]
  },
  {
   "cell_type": "code",
   "execution_count": null,
   "id": "488e64fc",
   "metadata": {},
   "outputs": [],
   "source": []
  }
 ],
 "metadata": {
  "kernelspec": {
   "display_name": "Python 3 (ipykernel)",
   "language": "python",
   "name": "python3"
  },
  "language_info": {
   "codemirror_mode": {
    "name": "ipython",
    "version": 3
   },
   "file_extension": ".py",
   "mimetype": "text/x-python",
   "name": "python",
   "nbconvert_exporter": "python",
   "pygments_lexer": "ipython3",
   "version": "3.9.12"
  }
 },
 "nbformat": 4,
 "nbformat_minor": 5
}
