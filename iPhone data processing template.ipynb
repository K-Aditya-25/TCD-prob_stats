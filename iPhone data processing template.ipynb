{
 "cells": [
  {
   "cell_type": "markdown",
   "id": "07695d72",
   "metadata": {},
   "source": [
    "Here I use the examples of all 3 gates on a Tuesday afternoon. Please make the changes in the variable names and the paths of the file accordingly. This notebook is **ONLY** for data recorded through an **iPhone**.<br>\n",
    "For an Android data, refer to the other notebook in this repository."
   ]
  },
  {
   "cell_type": "markdown",
   "id": "6bdffadc",
   "metadata": {},
   "source": [
    "Import Libraries"
   ]
  },
  {
   "cell_type": "code",
   "execution_count": null,
   "id": "f9400368",
   "metadata": {},
   "outputs": [],
   "source": [
    "import pandas as pd\n",
    "import numpy as np"
   ]
  },
  {
   "cell_type": "markdown",
   "id": "dc575111",
   "metadata": {},
   "source": [
    "Set the file paths of the data"
   ]
  },
  {
   "cell_type": "code",
   "execution_count": null,
   "id": "d324cb1a",
   "metadata": {},
   "outputs": [],
   "source": [
    "tue_1pm_pearse = pd.read_csv(\"Enter File Path\")\n",
    "tue_1pm_nassau = pd.read_csv(\"Enter File Path\")\n",
    "tue_1pm_front = pd.read_csv(\"Enter File Path\")"
   ]
  },
  {
   "cell_type": "markdown",
   "id": "f74c7971",
   "metadata": {},
   "source": [
    "Check the dimensions of each dataset"
   ]
  },
  {
   "cell_type": "code",
   "execution_count": null,
   "id": "8fa4d2f9",
   "metadata": {},
   "outputs": [],
   "source": [
    "print(f\"Front:{tue_1pm_front.shape}\\nNassau: {tue_1pm_nassau.shape}\\nPearse: {tue_1pm_pearse.shape}\")"
   ]
  },
  {
   "cell_type": "markdown",
   "id": "c92cdadd",
   "metadata": {},
   "source": [
    "Convert the 'time' column of each dataset to a datetime object. This makes it easier to extract the values for minutes and seconds"
   ]
  },
  {
   "cell_type": "code",
   "execution_count": null,
   "id": "d48aaa84",
   "metadata": {},
   "outputs": [],
   "source": [
    "#Convert to datetime, Front\n",
    "tue_1pm_front['time'] = pd.to_datetime(tue_1pm_front['time'])\n",
    "tue_1pm_front['secs'] = tue_1pm_front['time'].dt.second\n",
    "tue_1pm_front['mins'] = tue_1pm_front['time'].dt.minute\n",
    "\n",
    "#Convert to datetime, Nassau\n",
    "tue_1pm_nassau['time'] = pd.to_datetime(tue_1pm_nassau['time'])\n",
    "tue_1pm_nassau['secs'] = tue_1pm_nassau['time'].dt.second\n",
    "tue_1pm_nassau['mins'] = tue_1pm_nassau['time'].dt.minute\n",
    "\n",
    "#Convert to datetime, Pearse\n",
    "tue_1pm_pearse['time'] = pd.to_datetime(tue_1pm_pearse['time'])\n",
    "tue_1pm_pearse['secs'] = tue_1pm_pearse['time'].dt.second\n",
    "tue_1pm_pearse['mins'] = tue_1pm_pearse['time'].dt.minute"
   ]
  },
  {
   "cell_type": "markdown",
   "id": "26971970",
   "metadata": {},
   "source": [
    "Have a look at how the dataset look afterwards"
   ]
  },
  {
   "cell_type": "code",
   "execution_count": null,
   "id": "56fe40cb",
   "metadata": {},
   "outputs": [],
   "source": [
    "tue_1pm_front"
   ]
  },
  {
   "cell_type": "markdown",
   "id": "2e2de236",
   "metadata": {},
   "source": [
    "Since there are multiple readings for a single second, create a new dataframe that has the columns 'mins', 'secs' and 'Gain'. Take a mean of all values of 'Gain' from the original dataframe for a single second with respect to a single value of a minute"
   ]
  },
  {
   "cell_type": "code",
   "execution_count": null,
   "id": "dc4a2a36",
   "metadata": {},
   "outputs": [],
   "source": [
    "gain_mean_by_min_sec_A = tue_1pm_front.groupby(['mins', 'secs'])['Gain'].mean().reset_index()\n",
    "gain_mean_by_min_sec_B = tue_1pm_nassau.groupby(['mins', 'secs'])['Gain'].mean().reset_index()\n",
    "gain_mean_by_min_sec_C = tue_1pm_pearse.groupby(['mins', 'secs'])['Gain'].mean().reset_index()\n"
   ]
  },
  {
   "cell_type": "markdown",
   "id": "70159285",
   "metadata": {},
   "source": [
    "Have a look how the new dataframe looks like. Notice how for every minute there are multiple seconds (which is the way it's supposed to be!). And, every second has a single value of 'Gain' (phew!)"
   ]
  },
  {
   "cell_type": "code",
   "execution_count": null,
   "id": "188af8ea",
   "metadata": {},
   "outputs": [],
   "source": [
    "gain_mean_by_min_sec_A"
   ]
  },
  {
   "cell_type": "markdown",
   "id": "d547ea8b",
   "metadata": {},
   "source": [
    "However, we need the seconds to be grouped into sets of 5, and then take the mean of the 'Gain' values for 5 of those grouped seconds.<br>We achieve that in two steps:<br>\n",
    "<ol>\n",
    "    <li>Create a separate column called '5_sec_interval' in the new dataframe created in the previous step\n",
    "        <li> Create another dataframe which has the columns 'mins', '5_sec_interval', and 'Gain'. The 'Gain' columns contains the mean of 5 rows with the same value for '5_sec_interval'\n",
    "            </ol>\n",
    "            <br>Below is the implementation in steps for each dataframe"
   ]
  },
  {
   "cell_type": "code",
   "execution_count": null,
   "id": "f56cd024",
   "metadata": {},
   "outputs": [],
   "source": [
    "# Step 1: Calculate 5-second intervals\n",
    "gain_mean_by_min_sec_A['5_sec_interval'] = (gain_mean_by_min_sec_A['secs'] // 5) * 5\n",
    "\n",
    "# Step 2 & 3: Group by 'mins' and '5_sec_interval', then calculate mean 'Gain'\n",
    "gain_mean_5sec_intervals_A = gain_mean_by_min_sec_A.groupby(['mins', '5_sec_interval'])['Gain'].mean().reset_index()\n",
    "\n",
    "# Step 1: Calculate 5-second intervals\n",
    "gain_mean_by_min_sec_B['5_sec_interval'] = (gain_mean_by_min_sec_B['secs'] // 5) * 5\n",
    "\n",
    "# Step 2 & 3: Group by 'mins' and '5_sec_interval', then calculate mean 'Gain'\n",
    "gain_mean_5sec_intervals_B = gain_mean_by_min_sec_B.groupby(['mins', '5_sec_interval'])['Gain'].mean().reset_index()\n",
    "\n",
    "# Step 1: Calculate 5-second intervals\n",
    "gain_mean_by_min_sec_C['5_sec_interval'] = (gain_mean_by_min_sec_C['secs'] // 5) * 5\n",
    "\n",
    "# Step 2 & 3: Group by 'mins' and '5_sec_interval', then calculate mean 'Gain'\n",
    "gain_mean_5sec_intervals_C = gain_mean_by_min_sec_C.groupby(['mins', '5_sec_interval'])['Gain'].mean().reset_index()"
   ]
  },
  {
   "cell_type": "markdown",
   "id": "b102ed3f",
   "metadata": {},
   "source": [
    "No matter the total number of rows in the dataframe, limit them to be exactly 150 (as instructed in the assignment pdf)"
   ]
  },
  {
   "cell_type": "code",
   "execution_count": null,
   "id": "f3e7ea3f",
   "metadata": {},
   "outputs": [],
   "source": [
    "gain_mean_5sec_intervals_A = gain_mean_5sec_intervals_A.iloc[0:150]\n",
    "gain_mean_5sec_intervals_B = gain_mean_5sec_intervals_B.iloc[0:150]\n",
    "gain_mean_5sec_intervals_C = gain_mean_5sec_intervals_C.iloc[0:150]"
   ]
  },
  {
   "cell_type": "markdown",
   "id": "6a6b45e4",
   "metadata": {},
   "source": [
    "Have a look at the recently created dataframe which has the columns 'mins', '5_sec_interval', and 'Gain'."
   ]
  },
  {
   "cell_type": "code",
   "execution_count": null,
   "id": "83a257a2",
   "metadata": {},
   "outputs": [],
   "source": [
    "gain_mean_5sec_intervals_A"
   ]
  },
  {
   "cell_type": "markdown",
   "id": "aa7d180b",
   "metadata": {},
   "source": [
    "Create a final dataframe that is of the format specified in the assignment pdf for a single location. Change the values of the day(1,2,3,4) and location(A,B,C) accordingly.<br> For the column 'Average Sound Level' in the final dataframe, take the 'Gain' of the recent dataframe, round the mean values till 3 decimal digits, and convert it into a list using the **tolist()** method"
   ]
  },
  {
   "cell_type": "code",
   "execution_count": null,
   "id": "b07b8ad7",
   "metadata": {},
   "outputs": [],
   "source": [
    "tue_1pm_front_avg = pd.DataFrame({\n",
    "    'Location': 'A',\n",
    "    'Time of Day': 'Afternoon',\n",
    "    'Day': 1,\n",
    "    'Average Sound Level': gain_mean_5sec_intervals_A.Gain.round(3).tolist()\n",
    "})\n",
    "\n",
    "tue_1pm_nassau_avg = pd.DataFrame({\n",
    "    'Location': 'B',\n",
    "    'Time of Day': 'Afternoon',\n",
    "    'Day': 1,\n",
    "    'Average Sound Level': gain_mean_5sec_intervals_B.Gain.round(3).tolist()\n",
    "})\n",
    "\n",
    "tue_1pm_pearse_avg = pd.DataFrame({\n",
    "    'Location': 'C',\n",
    "    'Time of Day': 'Afternoon',\n",
    "    'Day': 1,\n",
    "    'Average Sound Level': gain_mean_5sec_intervals_C.Gain.round(3).tolist()\n",
    "})"
   ]
  },
  {
   "cell_type": "markdown",
   "id": "fb589843",
   "metadata": {},
   "source": [
    "Have a look at the final dataframe created! Confirm if everything is as expected"
   ]
  },
  {
   "cell_type": "code",
   "execution_count": null,
   "id": "b2044974",
   "metadata": {},
   "outputs": [],
   "source": [
    "tue_1pm_pearse_avg"
   ]
  },
  {
   "cell_type": "markdown",
   "id": "317187e9",
   "metadata": {},
   "source": [
    "Convert the final dataframes into pdfs and export them. You're done!"
   ]
  },
  {
   "cell_type": "code",
   "execution_count": null,
   "id": "e39c27ee",
   "metadata": {},
   "outputs": [],
   "source": [
    "tue_1pm_front_avg.to_csv(\"Tue 1pm Front avg.csv\", index = False)\n",
    "tue_1pm_nassau_avg.to_csv(\"Tue 1pm Nassau avg.csv\", index = False)\n",
    "tue_1pm_pearse_avg.to_csv(\"Tue 1pm Pearse avg.csv\", index = False)"
   ]
  },
  {
   "cell_type": "code",
   "execution_count": null,
   "id": "a726d0d6",
   "metadata": {},
   "outputs": [],
   "source": []
  }
 ],
 "metadata": {
  "kernelspec": {
   "display_name": "Python 3 (ipykernel)",
   "language": "python",
   "name": "python3"
  },
  "language_info": {
   "codemirror_mode": {
    "name": "ipython",
    "version": 3
   },
   "file_extension": ".py",
   "mimetype": "text/x-python",
   "name": "python",
   "nbconvert_exporter": "python",
   "pygments_lexer": "ipython3",
   "version": "3.9.12"
  }
 },
 "nbformat": 4,
 "nbformat_minor": 5
}
